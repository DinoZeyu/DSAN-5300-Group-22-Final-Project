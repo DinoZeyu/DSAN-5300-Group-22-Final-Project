{
 "cells": [
  {
   "cell_type": "code",
   "execution_count": 1,
   "metadata": {},
   "outputs": [],
   "source": [
    "import pandas as pd\n",
    "import numpy as np\n",
    "import matplotlib.pyplot as plt\n",
    "import seaborn as sns\n",
    "from sklearn.preprocessing import LabelEncoder"
   ]
  },
  {
   "cell_type": "code",
   "execution_count": null,
   "metadata": {},
   "outputs": [],
   "source": [
    "pd.read_csv('Data/listings_detail.csv')"
   ]
  },
  {
   "cell_type": "code",
   "execution_count": 424,
   "metadata": {},
   "outputs": [
    {
     "data": {
      "text/plain": [
       "(10150, 34)"
      ]
     },
     "execution_count": 424,
     "metadata": {},
     "output_type": "execute_result"
    }
   ],
   "source": [
    "df1 = pd.read_csv('listings_detail.csv')\n",
    "\n",
    "df1 = df1.drop(columns = ['id',\"host_id\",'name','listing_url', 'scrape_id', 'last_scraped', 'source','description', 'picture_url','host_url', 'host_name',\n",
    "                          'host_thumbnail_url', 'host_picture_url','host_neighbourhood','host_listings_count','host_verifications',\n",
    "                          'neighbourhood','neighbourhood_cleansed', 'neighbourhood_group_cleansed', 'latitude','longitude','bathrooms',\n",
    "                          'bedrooms','amenities','minimum_minimum_nights','maximum_minimum_nights', 'minimum_maximum_nights',\n",
    "                          'maximum_maximum_nights', 'minimum_nights_avg_ntm','maximum_nights_avg_ntm',\"calendar_updated\",'calendar_last_scraped',\n",
    "                          'number_of_reviews_ltm', 'number_of_reviews_l30d','license','calculated_host_listings_count','calculated_host_listings_count_entire_homes',\n",
    "                          'calculated_host_listings_count_private_rooms','calculated_host_listings_count_shared_rooms','neighborhood_overview', 'host_about'])\n",
    "\n",
    "## Remove NA values\n",
    "df1.dropna(subset=df1.columns.difference(['review_scores_rating']), inplace=True)\n",
    "\n",
    "# Sanity Check\n",
    "df1.shape\n"
   ]
  },
  {
   "cell_type": "code",
   "execution_count": 425,
   "metadata": {},
   "outputs": [],
   "source": [
    "## Assign Labels for Popularity as multiple classes\n",
    "\n",
    "quintiles = [0, 0.25, 0.5, 0.75, 1.0]\n",
    "quintile_values = df1['number_of_reviews'].quantile(quintiles)\n",
    "bins = [-1, quintile_values[0.25], quintile_values[0.5], quintile_values[0.75], float('inf')]\n",
    "\n",
    "labels = ['low popularity', 'moderate popularity', 'high popularity', 'very high popularity']\n",
    "\n",
    "df1['popularity'] = pd.cut(df1['number_of_reviews'], bins=bins, labels=labels, include_lowest=True)"
   ]
  },
  {
   "cell_type": "code",
   "execution_count": 426,
   "metadata": {},
   "outputs": [],
   "source": [
    "## Remove $ sign from price \n",
    "df1['price'] = df1['price'].str.replace('$', '')\n",
    "df1['price'] = df1['price'].str.replace(',', '').astype('float')\n",
    "\n",
    "## Transfer % to float\n",
    "df1['host_response_rate'] = df1['host_response_rate'].str.replace('%','').astype('float') / 100\n",
    "df1['host_acceptance_rate'] = df1['host_acceptance_rate'].str.replace('%','').astype('float') / 100\n",
    "\n",
    "## Extract number of bathrooms\n",
    "df1['bathrooms_text'] = df1['bathrooms_text'].str.extract('(\\d+)').astype('float')\n",
    "\n",
    "# host_is_local\n",
    "def is_local(location):\n",
    "  return 1 if location == 'Bangkok, Thailand' else 0\n",
    "\n",
    "df1['host_is_local'] = df1['host_location'].apply(is_local)\n",
    "\n",
    "\n",
    "# Remove columns\n",
    "df1.drop(columns = (['host_location', 'property_type', 'number_of_reviews']), inplace=True)\n"
   ]
  },
  {
   "cell_type": "code",
   "execution_count": 427,
   "metadata": {},
   "outputs": [],
   "source": [
    "def encode_columns(df, columns):\n",
    "    encoder = LabelEncoder()\n",
    "    for column in columns:\n",
    "        df[column] = encoder.fit_transform(df[column])\n",
    "    return df\n",
    "\n",
    "# List of columns you want to encode\n",
    "columns_to_encode = [\n",
    "    'popularity',\n",
    "    'host_is_superhost',\n",
    "    'host_has_profile_pic',\n",
    "    'host_identity_verified',\n",
    "    'has_availability',\n",
    "    'instant_bookable',\n",
    "    'host_response_time',\n",
    "    'room_type'\n",
    "]\n",
    "\n",
    "df1 = encode_columns(df1, columns_to_encode)"
   ]
  },
  {
   "cell_type": "code",
   "execution_count": 428,
   "metadata": {},
   "outputs": [
    {
     "data": {
      "text/html": [
       "<div>\n",
       "<style scoped>\n",
       "    .dataframe tbody tr th:only-of-type {\n",
       "        vertical-align: middle;\n",
       "    }\n",
       "\n",
       "    .dataframe tbody tr th {\n",
       "        vertical-align: top;\n",
       "    }\n",
       "\n",
       "    .dataframe thead th {\n",
       "        text-align: right;\n",
       "    }\n",
       "</style>\n",
       "<table border=\"1\" class=\"dataframe\">\n",
       "  <thead>\n",
       "    <tr style=\"text-align: right;\">\n",
       "      <th></th>\n",
       "      <th>host_response_time</th>\n",
       "      <th>host_response_rate</th>\n",
       "      <th>host_acceptance_rate</th>\n",
       "      <th>host_is_superhost</th>\n",
       "      <th>host_total_listings_count</th>\n",
       "      <th>host_has_profile_pic</th>\n",
       "      <th>host_identity_verified</th>\n",
       "      <th>room_type</th>\n",
       "      <th>accommodates</th>\n",
       "      <th>bathrooms_text</th>\n",
       "      <th>...</th>\n",
       "      <th>review_scores_checkin</th>\n",
       "      <th>review_scores_communication</th>\n",
       "      <th>review_scores_location</th>\n",
       "      <th>review_scores_value</th>\n",
       "      <th>instant_bookable</th>\n",
       "      <th>reviews_per_month</th>\n",
       "      <th>popularity</th>\n",
       "      <th>host_is_local</th>\n",
       "      <th>host_years</th>\n",
       "      <th>review_years_range</th>\n",
       "    </tr>\n",
       "  </thead>\n",
       "  <tbody>\n",
       "    <tr>\n",
       "      <th>0</th>\n",
       "      <td>3</td>\n",
       "      <td>1.0</td>\n",
       "      <td>0.86</td>\n",
       "      <td>0</td>\n",
       "      <td>2</td>\n",
       "      <td>1</td>\n",
       "      <td>1</td>\n",
       "      <td>0</td>\n",
       "      <td>3</td>\n",
       "      <td>1.0</td>\n",
       "      <td>...</td>\n",
       "      <td>4.97</td>\n",
       "      <td>4.91</td>\n",
       "      <td>4.66</td>\n",
       "      <td>4.75</td>\n",
       "      <td>0</td>\n",
       "      <td>0.45</td>\n",
       "      <td>3</td>\n",
       "      <td>1</td>\n",
       "      <td>13</td>\n",
       "      <td>7.75</td>\n",
       "    </tr>\n",
       "    <tr>\n",
       "      <th>5</th>\n",
       "      <td>3</td>\n",
       "      <td>1.0</td>\n",
       "      <td>1.00</td>\n",
       "      <td>0</td>\n",
       "      <td>2</td>\n",
       "      <td>1</td>\n",
       "      <td>1</td>\n",
       "      <td>2</td>\n",
       "      <td>2</td>\n",
       "      <td>1.0</td>\n",
       "      <td>...</td>\n",
       "      <td>4.25</td>\n",
       "      <td>4.75</td>\n",
       "      <td>4.75</td>\n",
       "      <td>5.00</td>\n",
       "      <td>0</td>\n",
       "      <td>0.04</td>\n",
       "      <td>2</td>\n",
       "      <td>1</td>\n",
       "      <td>13</td>\n",
       "      <td>6.72</td>\n",
       "    </tr>\n",
       "    <tr>\n",
       "      <th>8</th>\n",
       "      <td>3</td>\n",
       "      <td>1.0</td>\n",
       "      <td>0.90</td>\n",
       "      <td>1</td>\n",
       "      <td>10</td>\n",
       "      <td>1</td>\n",
       "      <td>1</td>\n",
       "      <td>2</td>\n",
       "      <td>2</td>\n",
       "      <td>1.0</td>\n",
       "      <td>...</td>\n",
       "      <td>4.80</td>\n",
       "      <td>4.87</td>\n",
       "      <td>4.73</td>\n",
       "      <td>4.83</td>\n",
       "      <td>0</td>\n",
       "      <td>0.20</td>\n",
       "      <td>0</td>\n",
       "      <td>1</td>\n",
       "      <td>13</td>\n",
       "      <td>12.71</td>\n",
       "    </tr>\n",
       "    <tr>\n",
       "      <th>10</th>\n",
       "      <td>3</td>\n",
       "      <td>1.0</td>\n",
       "      <td>1.00</td>\n",
       "      <td>0</td>\n",
       "      <td>52</td>\n",
       "      <td>1</td>\n",
       "      <td>1</td>\n",
       "      <td>0</td>\n",
       "      <td>2</td>\n",
       "      <td>1.0</td>\n",
       "      <td>...</td>\n",
       "      <td>4.69</td>\n",
       "      <td>4.73</td>\n",
       "      <td>4.42</td>\n",
       "      <td>4.51</td>\n",
       "      <td>0</td>\n",
       "      <td>1.73</td>\n",
       "      <td>3</td>\n",
       "      <td>0</td>\n",
       "      <td>11</td>\n",
       "      <td>10.29</td>\n",
       "    </tr>\n",
       "    <tr>\n",
       "      <th>11</th>\n",
       "      <td>3</td>\n",
       "      <td>1.0</td>\n",
       "      <td>0.90</td>\n",
       "      <td>1</td>\n",
       "      <td>10</td>\n",
       "      <td>1</td>\n",
       "      <td>1</td>\n",
       "      <td>1</td>\n",
       "      <td>2</td>\n",
       "      <td>1.0</td>\n",
       "      <td>...</td>\n",
       "      <td>4.87</td>\n",
       "      <td>4.85</td>\n",
       "      <td>4.74</td>\n",
       "      <td>4.68</td>\n",
       "      <td>0</td>\n",
       "      <td>1.33</td>\n",
       "      <td>3</td>\n",
       "      <td>1</td>\n",
       "      <td>13</td>\n",
       "      <td>8.81</td>\n",
       "    </tr>\n",
       "  </tbody>\n",
       "</table>\n",
       "<p>5 rows × 32 columns</p>\n",
       "</div>"
      ],
      "text/plain": [
       "    host_response_time  host_response_rate  host_acceptance_rate  \\\n",
       "0                    3                 1.0                  0.86   \n",
       "5                    3                 1.0                  1.00   \n",
       "8                    3                 1.0                  0.90   \n",
       "10                   3                 1.0                  1.00   \n",
       "11                   3                 1.0                  0.90   \n",
       "\n",
       "    host_is_superhost  host_total_listings_count  host_has_profile_pic  \\\n",
       "0                   0                          2                     1   \n",
       "5                   0                          2                     1   \n",
       "8                   1                         10                     1   \n",
       "10                  0                         52                     1   \n",
       "11                  1                         10                     1   \n",
       "\n",
       "    host_identity_verified  room_type  accommodates  bathrooms_text  ...  \\\n",
       "0                        1          0             3             1.0  ...   \n",
       "5                        1          2             2             1.0  ...   \n",
       "8                        1          2             2             1.0  ...   \n",
       "10                       1          0             2             1.0  ...   \n",
       "11                       1          1             2             1.0  ...   \n",
       "\n",
       "    review_scores_checkin  review_scores_communication  \\\n",
       "0                    4.97                         4.91   \n",
       "5                    4.25                         4.75   \n",
       "8                    4.80                         4.87   \n",
       "10                   4.69                         4.73   \n",
       "11                   4.87                         4.85   \n",
       "\n",
       "    review_scores_location  review_scores_value  instant_bookable  \\\n",
       "0                     4.66                 4.75                 0   \n",
       "5                     4.75                 5.00                 0   \n",
       "8                     4.73                 4.83                 0   \n",
       "10                    4.42                 4.51                 0   \n",
       "11                    4.74                 4.68                 0   \n",
       "\n",
       "    reviews_per_month  popularity  host_is_local  host_years  \\\n",
       "0                0.45           3              1          13   \n",
       "5                0.04           2              1          13   \n",
       "8                0.20           0              1          13   \n",
       "10               1.73           3              0          11   \n",
       "11               1.33           3              1          13   \n",
       "\n",
       "    review_years_range  \n",
       "0                 7.75  \n",
       "5                 6.72  \n",
       "8                12.71  \n",
       "10               10.29  \n",
       "11                8.81  \n",
       "\n",
       "[5 rows x 32 columns]"
      ]
     },
     "execution_count": 428,
     "metadata": {},
     "output_type": "execute_result"
    }
   ],
   "source": [
    "# Calculate the difference in years\n",
    "import datetime as dt\n",
    "df1['host_since'] = pd.to_datetime(df1['host_since'])\n",
    "current_date = dt.datetime.now().date()\n",
    "df1['host_years'] = df1['host_since'].apply(lambda x: current_date.year - x.year - ((current_date.month, current_date.day) < (x.month, x.day)))\n",
    "df1.drop(columns=['host_since'],inplace=True)\n",
    "\n",
    "# calculate reviews years range\n",
    "df1['first_review'] = pd.to_datetime(df1['first_review'])\n",
    "df1['last_review'] = pd.to_datetime(df1['last_review'])\n",
    "df1['review_years_range']= round(((df1['last_review'] - df1['first_review']) / pd.Timedelta(days=365.25)).astype(float),2)\n",
    "df1.drop(columns=['first_review','last_review'],inplace=True)\n",
    "\n",
    "df1.head()"
   ]
  },
  {
   "cell_type": "code",
   "execution_count": 429,
   "metadata": {},
   "outputs": [
    {
     "data": {
      "text/plain": [
       "host_response_time              0\n",
       "host_response_rate              0\n",
       "host_acceptance_rate            0\n",
       "host_is_superhost               0\n",
       "host_total_listings_count       0\n",
       "host_has_profile_pic            0\n",
       "host_identity_verified          0\n",
       "room_type                       0\n",
       "accommodates                    0\n",
       "bathrooms_text                 24\n",
       "beds                            0\n",
       "price                           0\n",
       "minimum_nights                  0\n",
       "maximum_nights                  0\n",
       "has_availability                0\n",
       "availability_30                 0\n",
       "availability_60                 0\n",
       "availability_90                 0\n",
       "availability_365                0\n",
       "review_scores_rating            0\n",
       "review_scores_accuracy          0\n",
       "review_scores_cleanliness       0\n",
       "review_scores_checkin           0\n",
       "review_scores_communication     0\n",
       "review_scores_location          0\n",
       "review_scores_value             0\n",
       "instant_bookable                0\n",
       "reviews_per_month               0\n",
       "popularity                      0\n",
       "host_is_local                   0\n",
       "host_years                      0\n",
       "review_years_range              0\n",
       "dtype: int64"
      ]
     },
     "execution_count": 429,
     "metadata": {},
     "output_type": "execute_result"
    }
   ],
   "source": [
    "df1.isna().sum()"
   ]
  },
  {
   "cell_type": "code",
   "execution_count": 430,
   "metadata": {},
   "outputs": [
    {
     "data": {
      "text/html": [
       "<div>\n",
       "<style scoped>\n",
       "    .dataframe tbody tr th:only-of-type {\n",
       "        vertical-align: middle;\n",
       "    }\n",
       "\n",
       "    .dataframe tbody tr th {\n",
       "        vertical-align: top;\n",
       "    }\n",
       "\n",
       "    .dataframe thead th {\n",
       "        text-align: right;\n",
       "    }\n",
       "</style>\n",
       "<table border=\"1\" class=\"dataframe\">\n",
       "  <thead>\n",
       "    <tr style=\"text-align: right;\">\n",
       "      <th></th>\n",
       "      <th>host_response_time</th>\n",
       "      <th>host_response_rate</th>\n",
       "      <th>host_acceptance_rate</th>\n",
       "      <th>host_is_superhost</th>\n",
       "      <th>host_total_listings_count</th>\n",
       "      <th>host_has_profile_pic</th>\n",
       "      <th>host_identity_verified</th>\n",
       "      <th>room_type</th>\n",
       "      <th>accommodates</th>\n",
       "      <th>bathrooms_text</th>\n",
       "      <th>...</th>\n",
       "      <th>review_scores_checkin</th>\n",
       "      <th>review_scores_communication</th>\n",
       "      <th>review_scores_location</th>\n",
       "      <th>review_scores_value</th>\n",
       "      <th>instant_bookable</th>\n",
       "      <th>reviews_per_month</th>\n",
       "      <th>popularity</th>\n",
       "      <th>host_is_local</th>\n",
       "      <th>host_years</th>\n",
       "      <th>review_years_range</th>\n",
       "    </tr>\n",
       "  </thead>\n",
       "  <tbody>\n",
       "  </tbody>\n",
       "</table>\n",
       "<p>0 rows × 32 columns</p>\n",
       "</div>"
      ],
      "text/plain": [
       "Empty DataFrame\n",
       "Columns: [host_response_time, host_response_rate, host_acceptance_rate, host_is_superhost, host_total_listings_count, host_has_profile_pic, host_identity_verified, room_type, accommodates, bathrooms_text, beds, price, minimum_nights, maximum_nights, has_availability, availability_30, availability_60, availability_90, availability_365, review_scores_rating, review_scores_accuracy, review_scores_cleanliness, review_scores_checkin, review_scores_communication, review_scores_location, review_scores_value, instant_bookable, reviews_per_month, popularity, host_is_local, host_years, review_years_range]\n",
       "Index: []\n",
       "\n",
       "[0 rows x 32 columns]"
      ]
     },
     "execution_count": 430,
     "metadata": {},
     "output_type": "execute_result"
    }
   ],
   "source": [
    "df1[df1['bathrooms_text'] == np.nan]"
   ]
  },
  {
   "cell_type": "code",
   "execution_count": 431,
   "metadata": {},
   "outputs": [],
   "source": [
    "df1.to_csv('cleaned.csv', index=False)"
   ]
  },
  {
   "cell_type": "code",
   "execution_count": 432,
   "metadata": {},
   "outputs": [
    {
     "name": "stdout",
     "output_type": "stream",
     "text": [
      "review_years_range             0.336413\n",
      "reviews_per_month              0.209974\n",
      "host_years                     0.139287\n",
      "accommodates                   0.071792\n",
      "host_is_superhost              0.062199\n",
      "host_acceptance_rate           0.061227\n",
      "review_scores_accuracy         0.057787\n",
      "review_scores_checkin          0.055133\n",
      "host_response_time             0.054069\n",
      "review_scores_value            0.051966\n",
      "review_scores_communication    0.048802\n",
      "review_scores_rating           0.045368\n",
      "review_scores_cleanliness      0.043604\n",
      "beds                           0.040293\n",
      "host_response_rate             0.039772\n",
      "maximum_nights                 0.033537\n",
      "review_scores_location         0.025645\n",
      "bathrooms_text                 0.024523\n",
      "price                          0.016757\n",
      "host_has_profile_pic           0.010487\n",
      "instant_bookable               0.007602\n",
      "host_identity_verified         0.003595\n",
      "has_availability              -0.004715\n",
      "host_is_local                 -0.018436\n",
      "host_total_listings_count     -0.022588\n",
      "minimum_nights                -0.041371\n",
      "room_type                     -0.066680\n",
      "availability_365              -0.075358\n",
      "availability_30               -0.101319\n",
      "availability_90               -0.102855\n",
      "availability_60               -0.105712\n",
      "Name: popularity, dtype: float64\n"
     ]
    }
   ],
   "source": [
    "correlation_matrix = df1.corr()\n",
    "\n",
    "# Isolate the 'popularity' correlations and drop the self-correlation\n",
    "popularity_correlation = correlation_matrix['popularity'].drop('popularity', axis=0)\n",
    "\n",
    "# Sort the correlations in descending order\n",
    "sorted_correlation = popularity_correlation.sort_values(ascending=False)\n",
    "\n",
    "# Display the sorted correlations\n",
    "print(sorted_correlation)"
   ]
  },
  {
   "cell_type": "code",
   "execution_count": 433,
   "metadata": {},
   "outputs": [
    {
     "data": {
      "text/plain": [
       "32"
      ]
     },
     "execution_count": 433,
     "metadata": {},
     "output_type": "execute_result"
    }
   ],
   "source": [
    "len(df1.columns)"
   ]
  },
  {
   "cell_type": "code",
   "execution_count": 434,
   "metadata": {},
   "outputs": [],
   "source": [
    "y = df1.copy()\n"
   ]
  },
  {
   "cell_type": "code",
   "execution_count": 435,
   "metadata": {},
   "outputs": [
    {
     "data": {
      "image/png": "[encoded data removed]",
      "text/plain": [
       "<Figure size 1000x600 with 1 Axes>"
      ]
     },
     "metadata": {},
     "output_type": "display_data"
    }
   ],
   "source": [
    "import numpy as np\n",
    "import pandas as pd\n",
    "import matplotlib.pyplot as plt\n",
    "from sklearn.feature_selection import VarianceThreshold\n",
    "\n",
    "# Assuming 'y' is your DataFrame and contains the 'popularity' column\n",
    "df_feature = y.drop(columns=['popularity'])\n",
    "\n",
    "# Generate a range of threshold values\n",
    "threshold_values = np.linspace(0, 1, 11)  # For example, trying thresholds from 0 to 1 in 0.1 increments\n",
    "\n",
    "# Prepare lists to store the results\n",
    "thresholds = []\n",
    "num_low_variance_cols = []\n",
    "\n",
    "for i in threshold_values:\n",
    "    var_thres = VarianceThreshold(threshold=i)  # Set the current threshold value\n",
    "    var_thres.fit(df_feature)\n",
    "\n",
    "    # Identify columns that do not meet the current variance threshold\n",
    "    constant_columns = [column for column in df_feature.columns\n",
    "                        if column not in df_feature.columns[var_thres.get_support()]]\n",
    "\n",
    "    # Append the results to the lists\n",
    "    thresholds.append(i)\n",
    "    num_low_variance_cols.append(len(constant_columns))\n",
    "\n",
    "# Now plot the results\n",
    "plt.figure(figsize=(10, 6))\n",
    "plt.plot(thresholds, num_low_variance_cols, marker='o', linestyle='-')\n",
    "plt.title('Number of Low Variance Columns vs. Variance Threshold')\n",
    "plt.xlabel('Variance Threshold')\n",
    "plt.ylabel('Number of Low Variance Columns')\n",
    "plt.yticks(range(0, 20))\n",
    "plt.grid(True)\n",
    "plt.show()\n"
   ]
  },
  {
   "cell_type": "code",
   "execution_count": 436,
   "metadata": {},
   "outputs": [
    {
     "data": {
      "image/png": "[encoded data removed]",
      "text/plain": [
       "<Figure size 800x500 with 1 Axes>"
      ]
     },
     "metadata": {},
     "output_type": "display_data"
    }
   ],
   "source": [
    "import pandas as pd\n",
    "import numpy as np\n",
    "from sklearn.decomposition import PCA\n",
    "from sklearn.preprocessing import StandardScaler\n",
    "import matplotlib.pyplot as plt\n",
    "\n",
    "# Assuming df1 is your DataFrame and 'popularity' is the target column\n",
    "\n",
    "# Step 1: Prepare the data\n",
    "data = df1.copy()\n",
    "data.drop(columns=['bathrooms_text'], inplace=True)\n",
    "\n",
    "# Separate features and target\n",
    "X = data.drop('popularity', axis=1)\n",
    "y = data['popularity']\n",
    "\n",
    "# Step 2: Standardize the features\n",
    "scaler = StandardScaler()\n",
    "X_scaled = scaler.fit_transform(X)\n",
    "\n",
    "# Step 3: Apply PCA to determine the optimal number of components\n",
    "pca = PCA()\n",
    "X_pca = pca.fit_transform(X_scaled)\n",
    "explained_variance_ratio = pca.explained_variance_ratio_\n",
    "cumulative_explained_variance = np.cumsum(explained_variance_ratio)\n",
    "\n",
    "# Find the number of components for 95% variance\n",
    "optimal_components = np.where(cumulative_explained_variance >= 0.95)[0][0] + 1\n",
    "\n",
    "# Step 4: Plot the explained variance to visualize the trade-off\n",
    "plt.figure(figsize=(8, 5))\n",
    "plt.plot(cumulative_explained_variance, label='Cumulative Explained Variance')\n",
    "plt.axhline(y=0.95, color='red', linestyle='--', linewidth=2, label='95% explained variance')\n",
    "plt.axvline(x=optimal_components - 1, color='red', linestyle='--', linewidth=2, label=f'Optimal components: {optimal_components}')\n",
    "plt.xlabel('Number of Components')\n",
    "plt.ylabel('Cumulative Explained Variance')\n",
    "plt.title('Explained Variance by Components')\n",
    "plt.legend()\n",
    "plt.grid(True)\n",
    "plt.show()\n",
    "\n",
    "# Step 5: Apply PCA with the optimal number of components\n",
    "pca_optimal = PCA(n_components=optimal_components)\n",
    "X_pca_optimal = pca_optimal.fit_transform(X_scaled)\n",
    "\n",
    "# X_pca_optimal now contains the reduced feature set based on the optimal PCA components\n"
   ]
  },
  {
   "cell_type": "code",
   "execution_count": 437,
   "metadata": {},
   "outputs": [
    {
     "name": "stdout",
     "output_type": "stream",
     "text": [
      "host_is_superhost            3.834173\n",
      "host_years                   3.628069\n",
      "room_type                    3.595238\n",
      "instant_bookable             3.555786\n",
      "minimum_nights               3.467184\n",
      "reviews_per_month            3.430060\n",
      "host_total_listings_count    3.412294\n",
      "maximum_nights               3.411968\n",
      "review_years_range           3.388139\n",
      "host_is_local                3.161332\n",
      "host_acceptance_rate         3.099845\n",
      "availability_365             3.052913\n",
      "host_identity_verified       2.998754\n",
      "price                        2.972883\n",
      "beds                         2.870935\n",
      "accommodates                 2.535888\n",
      "host_has_profile_pic         2.521511\n",
      "host_response_rate           2.404367\n",
      "review_scores_location       2.377412\n",
      "host_response_time           2.230503\n",
      "has_availability             2.046037\n",
      "dtype: float64\n"
     ]
    }
   ],
   "source": [
    "import pandas as pd\n",
    "\n",
    "# Get the loadings of the PCA components\n",
    "loadings = pca_optimal.components_\n",
    "\n",
    "# Create a DataFrame with the loadings\n",
    "loadings_df = pd.DataFrame(loadings.T, columns=[f'PC{i+1}' for i in range(loadings.shape[0])], index=X.columns)\n",
    "\n",
    "# Calculate the absolute sum of loadings for each feature to see their overall contribution\n",
    "feature_importance = np.abs(loadings_df).sum(axis=1).sort_values(ascending=False)\n",
    "\n",
    "# Display the feature importance\n",
    "print(feature_importance[0:21])\n"
   ]
  },
  {
   "cell_type": "code",
   "execution_count": 438,
   "metadata": {},
   "outputs": [
    {
     "data": {
      "text/plain": [
       "30"
      ]
     },
     "execution_count": 438,
     "metadata": {},
     "output_type": "execute_result"
    }
   ],
   "source": [
    "len(feature_importance)"
   ]
  },
  {
   "cell_type": "code",
   "execution_count": 439,
   "metadata": {},
   "outputs": [
    {
     "ename": "AttributeError",
     "evalue": "'numpy.ndarray' object has no attribute 'components'",
     "output_type": "error",
     "traceback": [
      "\u001b[0;31m---------------------------------------------------------------------------\u001b[0m",
      "\u001b[0;31mAttributeError\u001b[0m                            Traceback (most recent call last)",
      "\u001b[1;32m/Users/zeyuhan/Desktop/airbnb_thailand/final.ipynb 单元格 17\u001b[0m line \u001b[0;36m1\n\u001b[0;32m----> <a href='vscode-notebook-cell:/Users/zeyuhan/Desktop/airbnb_thailand/final.ipynb#X36sZmlsZQ%3D%3D?line=0'>1</a>\u001b[0m \u001b[39mprint\u001b[39m(X_pca_optimal\u001b[39m.\u001b[39;49mcomponents)\n",
      "\u001b[0;31mAttributeError\u001b[0m: 'numpy.ndarray' object has no attribute 'components'"
     ]
    }
   ],
   "source": [
    "print(X_pca_optimal.components)"
   ]
  }
 ],
 "metadata": {
  "kernelspec": {
   "display_name": "dsan5400",
   "language": "python",
   "name": "python3"
  },
  "language_info": {
   "codemirror_mode": {
    "name": "ipython",
    "version": 3
   },
   "file_extension": ".py",
   "mimetype": "text/x-python",
   "name": "python",
   "nbconvert_exporter": "python",
   "pygments_lexer": "ipython3",
   "version": "3.11.5"
  }
 },
 "nbformat": 4,
 "nbformat_minor": 2
}
